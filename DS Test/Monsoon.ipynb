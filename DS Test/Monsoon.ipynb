{
  "nbformat": 4,
  "nbformat_minor": 0,
  "metadata": {
    "colab": {
      "provenance": []
    },
    "kernelspec": {
      "name": "python3",
      "display_name": "Python 3"
    },
    "language_info": {
      "name": "python"
    }
  },
  "cells": [
    {
      "cell_type": "markdown",
      "source": [
        "# Import files and libraries\n"
      ],
      "metadata": {
        "id": "SyUyUKPRGri4"
      }
    },
    {
      "cell_type": "code",
      "source": [
        "!pip install pandas numpy scikit-learn matplotlib zip-files imblearn mlxtend"
      ],
      "metadata": {
        "colab": {
          "base_uri": "https://localhost:8080/"
        },
        "id": "VS4KARJVJ_9x",
        "outputId": "3bb6b0c3-7b79-49a4-a2bb-85aad589de15"
      },
      "execution_count": 341,
      "outputs": [
        {
          "output_type": "stream",
          "name": "stdout",
          "text": [
            "Requirement already satisfied: pandas in /usr/local/lib/python3.10/dist-packages (1.5.3)\n",
            "Requirement already satisfied: numpy in /usr/local/lib/python3.10/dist-packages (1.23.5)\n",
            "Requirement already satisfied: scikit-learn in /usr/local/lib/python3.10/dist-packages (1.2.2)\n",
            "Requirement already satisfied: matplotlib in /usr/local/lib/python3.10/dist-packages (3.7.1)\n",
            "Requirement already satisfied: zip-files in /usr/local/lib/python3.10/dist-packages (0.4.1)\n",
            "Requirement already satisfied: imblearn in /usr/local/lib/python3.10/dist-packages (0.0)\n",
            "Requirement already satisfied: mlxtend in /usr/local/lib/python3.10/dist-packages (0.22.0)\n",
            "Requirement already satisfied: python-dateutil>=2.8.1 in /usr/local/lib/python3.10/dist-packages (from pandas) (2.8.2)\n",
            "Requirement already satisfied: pytz>=2020.1 in /usr/local/lib/python3.10/dist-packages (from pandas) (2023.3)\n",
            "Requirement already satisfied: scipy>=1.3.2 in /usr/local/lib/python3.10/dist-packages (from scikit-learn) (1.10.1)\n",
            "Requirement already satisfied: joblib>=1.1.1 in /usr/local/lib/python3.10/dist-packages (from scikit-learn) (1.3.2)\n",
            "Requirement already satisfied: threadpoolctl>=2.0.0 in /usr/local/lib/python3.10/dist-packages (from scikit-learn) (3.2.0)\n",
            "Requirement already satisfied: contourpy>=1.0.1 in /usr/local/lib/python3.10/dist-packages (from matplotlib) (1.1.0)\n",
            "Requirement already satisfied: cycler>=0.10 in /usr/local/lib/python3.10/dist-packages (from matplotlib) (0.11.0)\n",
            "Requirement already satisfied: fonttools>=4.22.0 in /usr/local/lib/python3.10/dist-packages (from matplotlib) (4.42.1)\n",
            "Requirement already satisfied: kiwisolver>=1.0.1 in /usr/local/lib/python3.10/dist-packages (from matplotlib) (1.4.4)\n",
            "Requirement already satisfied: packaging>=20.0 in /usr/local/lib/python3.10/dist-packages (from matplotlib) (23.1)\n",
            "Requirement already satisfied: pillow>=6.2.0 in /usr/local/lib/python3.10/dist-packages (from matplotlib) (9.4.0)\n",
            "Requirement already satisfied: pyparsing>=2.3.1 in /usr/local/lib/python3.10/dist-packages (from matplotlib) (3.1.1)\n",
            "Requirement already satisfied: click in /usr/local/lib/python3.10/dist-packages (from zip-files) (8.1.7)\n",
            "Requirement already satisfied: imbalanced-learn in /usr/local/lib/python3.10/dist-packages (from imblearn) (0.10.1)\n",
            "Requirement already satisfied: setuptools in /usr/local/lib/python3.10/dist-packages (from mlxtend) (67.7.2)\n",
            "Requirement already satisfied: six>=1.5 in /usr/local/lib/python3.10/dist-packages (from python-dateutil>=2.8.1->pandas) (1.16.0)\n"
          ]
        }
      ]
    },
    {
      "cell_type": "code",
      "execution_count": 342,
      "metadata": {
        "id": "wIX-tqEVMFLO"
      },
      "outputs": [],
      "source": [
        "from zipfile import ZipFile\n",
        "import pandas as pd\n",
        "import numpy as np\n",
        "\n",
        "import seaborn as sns\n",
        "import matplotlib.pyplot as plt\n",
        "from imblearn.under_sampling import RandomUnderSampler\n",
        "from sklearn.cluster import MiniBatchKMeans\n",
        "from imblearn.over_sampling import KMeansSMOTE"
      ]
    },
    {
      "cell_type": "code",
      "source": [
        "# sklearn imports\n",
        "from sklearn.experimental import enable_iterative_imputer\n",
        "from sklearn.impute import IterativeImputer\n",
        "from sklearn.pipeline import Pipeline\n",
        "\n",
        "from sklearn.metrics import confusion_matrix\n",
        "from sklearn.metrics import ConfusionMatrixDisplay\n",
        "\n",
        "\n",
        "from sklearn.experimental import enable_iterative_imputer\n",
        "from sklearn.impute import IterativeImputer\n",
        "\n",
        "\n",
        "# estimators\n",
        "from sklearn.svm import SVC\n",
        "from sklearn.ensemble import RandomForestClassifier\n",
        "from sklearn.linear_model import RidgeClassifierCV\n",
        "from sklearn.linear_model import RidgeClassifier\n",
        "from sklearn.linear_model import LogisticRegressionCV\n",
        "from sklearn.preprocessing import StandardScaler\n",
        "from sklearn.model_selection import train_test_split\n",
        "\n",
        "from mlxtend.feature_selection import ExhaustiveFeatureSelector\n",
        "from sklearn.metrics import roc_curve , roc_auc_score  , auc"
      ],
      "metadata": {
        "id": "5PLJqCaPmR2e"
      },
      "execution_count": 343,
      "outputs": []
    },
    {
      "cell_type": "code",
      "source": [
        "# python notebook and DS Test.zip must be at same root level\n",
        "\n",
        "\n",
        "'''\n",
        "Plese enter your zip file location here\n",
        "'''\n",
        "\n",
        "# file_name = \"DS Test.zip\"\n",
        "# with ZipFile(file_name, \"r\") as zip:\n",
        "#     zip.extractall(path=\"/content/\")\n"
      ],
      "metadata": {
        "id": "M4q_jHtzMxWT",
        "colab": {
          "base_uri": "https://localhost:8080/",
          "height": 36
        },
        "outputId": "50bfe127-6fee-4266-9db0-10dac73792f5"
      },
      "execution_count": 344,
      "outputs": [
        {
          "output_type": "execute_result",
          "data": {
            "text/plain": [
              "'\\nPlese enter your zip file location here\\n'"
            ],
            "application/vnd.google.colaboratory.intrinsic+json": {
              "type": "string"
            }
          },
          "metadata": {},
          "execution_count": 344
        }
      ]
    },
    {
      "cell_type": "markdown",
      "source": [
        "# Data preprocessing"
      ],
      "metadata": {
        "id": "iQVQRxfrG6cg"
      }
    },
    {
      "cell_type": "code",
      "source": [
        "x_train = pd.read_csv(\"/DS Test/Training/X_train.csv\")\n",
        "y_train = pd.read_csv(\"/DS Test/Training/y_train.csv\")\n",
        "\n"
      ],
      "metadata": {
        "id": "M3RN2S_lNijr"
      },
      "execution_count": 362,
      "outputs": []
    },
    {
      "cell_type": "code",
      "source": [
        "x_train[['C6','C8']] =  x_train[['C6','C8']].replace({True: 1, False: 0})\n"
      ],
      "metadata": {
        "id": "U-CgCQ2kOgCP"
      },
      "execution_count": 363,
      "outputs": []
    },
    {
      "cell_type": "code",
      "source": [
        "y_train.head()"
      ],
      "metadata": {
        "colab": {
          "base_uri": "https://localhost:8080/",
          "height": 206
        },
        "id": "dPzSYBNeP68m",
        "outputId": "292770f4-c7cb-4a1e-dc7a-14b758b48a3b"
      },
      "execution_count": 364,
      "outputs": [
        {
          "output_type": "execute_result",
          "data": {
            "text/plain": [
              "         Unique_ID  Dependent_Variable\n",
              "0   Candidate_5926                   1\n",
              "1  Candidate_48134                   0\n",
              "2  Candidate_51717                   1\n",
              "3  Candidate_26401                   0\n",
              "4  Candidate_34872                   0"
            ],
            "text/html": [
              "\n",
              "  <div id=\"df-8e3cbbc5-212a-4f57-8019-74ea2b9ce0f4\" class=\"colab-df-container\">\n",
              "    <div>\n",
              "<style scoped>\n",
              "    .dataframe tbody tr th:only-of-type {\n",
              "        vertical-align: middle;\n",
              "    }\n",
              "\n",
              "    .dataframe tbody tr th {\n",
              "        vertical-align: top;\n",
              "    }\n",
              "\n",
              "    .dataframe thead th {\n",
              "        text-align: right;\n",
              "    }\n",
              "</style>\n",
              "<table border=\"1\" class=\"dataframe\">\n",
              "  <thead>\n",
              "    <tr style=\"text-align: right;\">\n",
              "      <th></th>\n",
              "      <th>Unique_ID</th>\n",
              "      <th>Dependent_Variable</th>\n",
              "    </tr>\n",
              "  </thead>\n",
              "  <tbody>\n",
              "    <tr>\n",
              "      <th>0</th>\n",
              "      <td>Candidate_5926</td>\n",
              "      <td>1</td>\n",
              "    </tr>\n",
              "    <tr>\n",
              "      <th>1</th>\n",
              "      <td>Candidate_48134</td>\n",
              "      <td>0</td>\n",
              "    </tr>\n",
              "    <tr>\n",
              "      <th>2</th>\n",
              "      <td>Candidate_51717</td>\n",
              "      <td>1</td>\n",
              "    </tr>\n",
              "    <tr>\n",
              "      <th>3</th>\n",
              "      <td>Candidate_26401</td>\n",
              "      <td>0</td>\n",
              "    </tr>\n",
              "    <tr>\n",
              "      <th>4</th>\n",
              "      <td>Candidate_34872</td>\n",
              "      <td>0</td>\n",
              "    </tr>\n",
              "  </tbody>\n",
              "</table>\n",
              "</div>\n",
              "    <div class=\"colab-df-buttons\">\n",
              "\n",
              "  <div class=\"colab-df-container\">\n",
              "    <button class=\"colab-df-convert\" onclick=\"convertToInteractive('df-8e3cbbc5-212a-4f57-8019-74ea2b9ce0f4')\"\n",
              "            title=\"Convert this dataframe to an interactive table.\"\n",
              "            style=\"display:none;\">\n",
              "\n",
              "  <svg xmlns=\"http://www.w3.org/2000/svg\" height=\"24px\" viewBox=\"0 -960 960 960\">\n",
              "    <path d=\"M120-120v-720h720v720H120Zm60-500h600v-160H180v160Zm220 220h160v-160H400v160Zm0 220h160v-160H400v160ZM180-400h160v-160H180v160Zm440 0h160v-160H620v160ZM180-180h160v-160H180v160Zm440 0h160v-160H620v160Z\"/>\n",
              "  </svg>\n",
              "    </button>\n",
              "\n",
              "  <style>\n",
              "    .colab-df-container {\n",
              "      display:flex;\n",
              "      gap: 12px;\n",
              "    }\n",
              "\n",
              "    .colab-df-convert {\n",
              "      background-color: #E8F0FE;\n",
              "      border: none;\n",
              "      border-radius: 50%;\n",
              "      cursor: pointer;\n",
              "      display: none;\n",
              "      fill: #1967D2;\n",
              "      height: 32px;\n",
              "      padding: 0 0 0 0;\n",
              "      width: 32px;\n",
              "    }\n",
              "\n",
              "    .colab-df-convert:hover {\n",
              "      background-color: #E2EBFA;\n",
              "      box-shadow: 0px 1px 2px rgba(60, 64, 67, 0.3), 0px 1px 3px 1px rgba(60, 64, 67, 0.15);\n",
              "      fill: #174EA6;\n",
              "    }\n",
              "\n",
              "    .colab-df-buttons div {\n",
              "      margin-bottom: 4px;\n",
              "    }\n",
              "\n",
              "    [theme=dark] .colab-df-convert {\n",
              "      background-color: #3B4455;\n",
              "      fill: #D2E3FC;\n",
              "    }\n",
              "\n",
              "    [theme=dark] .colab-df-convert:hover {\n",
              "      background-color: #434B5C;\n",
              "      box-shadow: 0px 1px 3px 1px rgba(0, 0, 0, 0.15);\n",
              "      filter: drop-shadow(0px 1px 2px rgba(0, 0, 0, 0.3));\n",
              "      fill: #FFFFFF;\n",
              "    }\n",
              "  </style>\n",
              "\n",
              "    <script>\n",
              "      const buttonEl =\n",
              "        document.querySelector('#df-8e3cbbc5-212a-4f57-8019-74ea2b9ce0f4 button.colab-df-convert');\n",
              "      buttonEl.style.display =\n",
              "        google.colab.kernel.accessAllowed ? 'block' : 'none';\n",
              "\n",
              "      async function convertToInteractive(key) {\n",
              "        const element = document.querySelector('#df-8e3cbbc5-212a-4f57-8019-74ea2b9ce0f4');\n",
              "        const dataTable =\n",
              "          await google.colab.kernel.invokeFunction('convertToInteractive',\n",
              "                                                    [key], {});\n",
              "        if (!dataTable) return;\n",
              "\n",
              "        const docLinkHtml = 'Like what you see? Visit the ' +\n",
              "          '<a target=\"_blank\" href=https://colab.research.google.com/notebooks/data_table.ipynb>data table notebook</a>'\n",
              "          + ' to learn more about interactive tables.';\n",
              "        element.innerHTML = '';\n",
              "        dataTable['output_type'] = 'display_data';\n",
              "        await google.colab.output.renderOutput(dataTable, element);\n",
              "        const docLink = document.createElement('div');\n",
              "        docLink.innerHTML = docLinkHtml;\n",
              "        element.appendChild(docLink);\n",
              "      }\n",
              "    </script>\n",
              "  </div>\n",
              "\n",
              "\n",
              "<div id=\"df-7ed4d305-4863-48bd-af4b-1f078d364b9f\">\n",
              "  <button class=\"colab-df-quickchart\" onclick=\"quickchart('df-7ed4d305-4863-48bd-af4b-1f078d364b9f')\"\n",
              "            title=\"Suggest charts.\"\n",
              "            style=\"display:none;\">\n",
              "\n",
              "<svg xmlns=\"http://www.w3.org/2000/svg\" height=\"24px\"viewBox=\"0 0 24 24\"\n",
              "     width=\"24px\">\n",
              "    <g>\n",
              "        <path d=\"M19 3H5c-1.1 0-2 .9-2 2v14c0 1.1.9 2 2 2h14c1.1 0 2-.9 2-2V5c0-1.1-.9-2-2-2zM9 17H7v-7h2v7zm4 0h-2V7h2v10zm4 0h-2v-4h2v4z\"/>\n",
              "    </g>\n",
              "</svg>\n",
              "  </button>\n",
              "\n",
              "<style>\n",
              "  .colab-df-quickchart {\n",
              "    background-color: #E8F0FE;\n",
              "    border: none;\n",
              "    border-radius: 50%;\n",
              "    cursor: pointer;\n",
              "    display: none;\n",
              "    fill: #1967D2;\n",
              "    height: 32px;\n",
              "    padding: 0 0 0 0;\n",
              "    width: 32px;\n",
              "  }\n",
              "\n",
              "  .colab-df-quickchart:hover {\n",
              "    background-color: #E2EBFA;\n",
              "    box-shadow: 0px 1px 2px rgba(60, 64, 67, 0.3), 0px 1px 3px 1px rgba(60, 64, 67, 0.15);\n",
              "    fill: #174EA6;\n",
              "  }\n",
              "\n",
              "  [theme=dark] .colab-df-quickchart {\n",
              "    background-color: #3B4455;\n",
              "    fill: #D2E3FC;\n",
              "  }\n",
              "\n",
              "  [theme=dark] .colab-df-quickchart:hover {\n",
              "    background-color: #434B5C;\n",
              "    box-shadow: 0px 1px 3px 1px rgba(0, 0, 0, 0.15);\n",
              "    filter: drop-shadow(0px 1px 2px rgba(0, 0, 0, 0.3));\n",
              "    fill: #FFFFFF;\n",
              "  }\n",
              "</style>\n",
              "\n",
              "  <script>\n",
              "    async function quickchart(key) {\n",
              "      const charts = await google.colab.kernel.invokeFunction(\n",
              "          'suggestCharts', [key], {});\n",
              "    }\n",
              "    (() => {\n",
              "      let quickchartButtonEl =\n",
              "        document.querySelector('#df-7ed4d305-4863-48bd-af4b-1f078d364b9f button');\n",
              "      quickchartButtonEl.style.display =\n",
              "        google.colab.kernel.accessAllowed ? 'block' : 'none';\n",
              "    })();\n",
              "  </script>\n",
              "</div>\n",
              "    </div>\n",
              "  </div>\n"
            ]
          },
          "metadata": {},
          "execution_count": 364
        }
      ]
    },
    {
      "cell_type": "code",
      "source": [
        "y_train['Dependent_Variable'].value_counts().plot.bar()\n",
        "plt.title('Dependent Variable')\n",
        "plt.xlabel('Values')\n",
        "plt.ylabel('Count')\n",
        "plt.show()\n"
      ],
      "metadata": {
        "colab": {
          "base_uri": "https://localhost:8080/",
          "height": 467
        },
        "id": "mOrqOoOmH6N0",
        "outputId": "510a8f96-50df-4441-db32-77d636d3fe01"
      },
      "execution_count": 365,
      "outputs": [
        {
          "output_type": "display_data",
          "data": {
            "text/plain": [
              "<Figure size 640x480 with 1 Axes>"
            ],
            "image/png": "[encoded data removed]"
          },
          "metadata": {}
        }
      ]
    },
    {
      "cell_type": "code",
      "source": [
        "# Plot the pie chart\n",
        "\n",
        "binary_values = y_train['Dependent_Variable'].value_counts()\n",
        "\n",
        "plt.pie(binary_values.values, labels=binary_values.index, autopct='%1.1f%%')\n",
        "\n",
        "# Set title\n",
        "plt.title('Pie Chart: Binary Values')\n",
        "\n",
        "# Show the plot\n",
        "plt.show()\n"
      ],
      "metadata": {
        "colab": {
          "base_uri": "https://localhost:8080/",
          "height": 428
        },
        "id": "zr3A0GmlItkG",
        "outputId": "c37b49bb-b2ff-4510-ab88-63e98433e014"
      },
      "execution_count": 366,
      "outputs": [
        {
          "output_type": "display_data",
          "data": {
            "text/plain": [
              "<Figure size 640x480 with 1 Axes>"
            ],
            "image/png": "[encoded data removed]"
          },
          "metadata": {}
        }
      ]
    },
    {
      "cell_type": "code",
      "source": [
        "x_train.isnull().sum()"
      ],
      "metadata": {
        "colab": {
          "base_uri": "https://localhost:8080/"
        },
        "id": "bCXpUkGyPEAa",
        "outputId": "3faf5f16-49d2-4459-b185-8dbe9e34fd9d"
      },
      "execution_count": 367,
      "outputs": [
        {
          "output_type": "execute_result",
          "data": {
            "text/plain": [
              "Unique_ID        0\n",
              "C1               0\n",
              "C2               0\n",
              "C3               0\n",
              "C4               0\n",
              "C5               0\n",
              "C6               0\n",
              "C7               0\n",
              "C8               0\n",
              "N1               0\n",
              "N2            4612\n",
              "N3             365\n",
              "N4            4606\n",
              "N5            4606\n",
              "N6             365\n",
              "N7             427\n",
              "N8               0\n",
              "N9               0\n",
              "N10            427\n",
              "N10.1          427\n",
              "N11            716\n",
              "N12           4614\n",
              "N14            608\n",
              "N15            427\n",
              "N16           4606\n",
              "N17           4606\n",
              "N18           4606\n",
              "N19           4571\n",
              "N20           4571\n",
              "N21           4571\n",
              "N22           4571\n",
              "N23           2486\n",
              "N24              0\n",
              "N25          26779\n",
              "N26          26779\n",
              "N27          26779\n",
              "N28          26779\n",
              "N29          26779\n",
              "N30          26779\n",
              "N31          26779\n",
              "N32          26830\n",
              "N33              0\n",
              "N34              0\n",
              "N35            427\n",
              "dtype: int64"
            ]
          },
          "metadata": {},
          "execution_count": 367
        }
      ]
    },
    {
      "cell_type": "code",
      "source": [
        "df_train = pd.merge(x_train,y_train,how='left')\n",
        "# df_train_with_id = df_train.copy()\n",
        "\n",
        "\n",
        "# these columns had large number of missing values and some were them not required\n",
        "droped_col_ls = ['Unique_ID','N25','N26','N27','N28','N29','N30','N31','N32','N33','Dependent_Variable']\n",
        "df_train_y = df_train['Dependent_Variable']\n",
        "df_train_x = df_train.drop(droped_col_ls,axis=1)"
      ],
      "metadata": {
        "id": "934JfawRP0DC"
      },
      "execution_count": 368,
      "outputs": []
    },
    {
      "cell_type": "markdown",
      "source": [
        "# Handling missing values"
      ],
      "metadata": {
        "id": "fE8i1FqdHR3Q"
      }
    },
    {
      "cell_type": "code",
      "source": [
        "# handling missing values using Iterative Imputer\n",
        "\n",
        "pipe = Pipeline([('imputer',IterativeImputer(max_iter=10, random_state=42)),\n",
        "                 ('std_sclr',StandardScaler())])\n",
        "\n",
        "impfit = pipe.fit(df_train_x)\n",
        "np_train_x = pipe.transform(df_train_x)"
      ],
      "metadata": {
        "id": "KoiFNLIrYrcd"
      },
      "execution_count": 369,
      "outputs": []
    },
    {
      "cell_type": "code",
      "source": [
        "pipe['imputer'].get_feature_names_out()"
      ],
      "metadata": {
        "colab": {
          "base_uri": "https://localhost:8080/"
        },
        "id": "-K_LaF0oayM7",
        "outputId": "a970812c-c592-47be-8dc4-c38f401dab97"
      },
      "execution_count": 370,
      "outputs": [
        {
          "output_type": "execute_result",
          "data": {
            "text/plain": [
              "array(['C1', 'C2', 'C3', 'C4', 'C5', 'C6', 'C7', 'C8', 'N1', 'N2', 'N3',\n",
              "       'N4', 'N5', 'N6', 'N7', 'N8', 'N9', 'N10', 'N10.1', 'N11', 'N12',\n",
              "       'N14', 'N15', 'N16', 'N17', 'N18', 'N19', 'N20', 'N21', 'N22',\n",
              "       'N23', 'N24', 'N34', 'N35'], dtype=object)"
            ]
          },
          "metadata": {},
          "execution_count": 370
        }
      ]
    },
    {
      "cell_type": "markdown",
      "source": [
        "# Feature Selection"
      ],
      "metadata": {
        "id": "Myww0xNvOhED"
      }
    },
    {
      "cell_type": "code",
      "source": [
        "np_train_x.shape"
      ],
      "metadata": {
        "colab": {
          "base_uri": "https://localhost:8080/"
        },
        "id": "BuPfRIUBSFCK",
        "outputId": "01dcf4ef-de6e-4dd7-add2-ba475894ade3"
      },
      "execution_count": 371,
      "outputs": [
        {
          "output_type": "execute_result",
          "data": {
            "text/plain": [
              "(33050, 34)"
            ]
          },
          "metadata": {},
          "execution_count": 371
        }
      ]
    },
    {
      "cell_type": "code",
      "source": [
        "from sklearn.feature_selection import mutual_info_classif\n",
        "importance = mutual_info_classif(np_train_x,df_train_y)\n",
        "feature_imp = pd.Series(importance,df_train_col)\n",
        "feature_imp.plot(kind='barh',color='teal')\n",
        "plt.show()"
      ],
      "metadata": {
        "colab": {
          "base_uri": "https://localhost:8080/",
          "height": 430
        },
        "id": "S4LO0iv88rFw",
        "outputId": "f45d6b2b-1b10-4e7b-f89b-e9992c30c1f1"
      },
      "execution_count": 372,
      "outputs": [
        {
          "output_type": "display_data",
          "data": {
            "text/plain": [
              "<Figure size 640x480 with 1 Axes>"
            ],
            "image/png": "[encoded data removed]"
          },
          "metadata": {}
        }
      ]
    },
    {
      "cell_type": "code",
      "source": [
        "# droping columns with value less then 0.007\n",
        "feature_imp = feature_imp[feature_imp > 0.007]\n",
        "feature_imp.plot(kind='barh',color='teal')\n",
        "plt.show()"
      ],
      "metadata": {
        "colab": {
          "base_uri": "https://localhost:8080/",
          "height": 430
        },
        "id": "tPjMUNU-Lrc8",
        "outputId": "32651f26-e29c-458d-ebb4-180aa258ef20"
      },
      "execution_count": 373,
      "outputs": [
        {
          "output_type": "display_data",
          "data": {
            "text/plain": [
              "<Figure size 640x480 with 1 Axes>"
            ],
            "image/png": "[encoded data removed]"
          },
          "metadata": {}
        }
      ]
    },
    {
      "cell_type": "code",
      "source": [
        "# selected_columns"
      ],
      "metadata": {
        "id": "phyrpVWzU6mF"
      },
      "execution_count": 374,
      "outputs": []
    },
    {
      "cell_type": "code",
      "source": [
        "selected_columns = feature_imp.index\n",
        "df_train_x = df_train[selected_columns]\n",
        "\n",
        "np_train_std_x = pipe.fit(df_train_x)\n",
        "np_train_std_x = pipe.transform(df_train_x)"
      ],
      "metadata": {
        "id": "Jb97E6dCNDmr"
      },
      "execution_count": 375,
      "outputs": []
    },
    {
      "cell_type": "code",
      "source": [
        "\n",
        "# undersample = RandomUnderSampler(sampling_strategy='majority')\n",
        "undersample = KMeansSMOTE(kmeans_estimator=MiniBatchKMeans(n_init='auto', random_state=0), random_state=42)\n",
        "\n",
        "# fit and apply the transform\n",
        "np_train_std_x, df_train_y = undersample.fit_resample(np_train_std_x, df_train_y)"
      ],
      "metadata": {
        "id": "xBVfKB3b3b62"
      },
      "execution_count": 376,
      "outputs": []
    },
    {
      "cell_type": "code",
      "source": [
        "x_train_ , x_test_ , y_train_ , y_test_ = train_test_split(np_train_std_x,df_train_y,\n",
        "                                                           train_size=0.8,\n",
        "                                                           random_state=42,\n",
        "                                                           stratify=df_train_y)\n",
        "y_train_ = y_train_.values\n",
        "y_test_ = y_test_.values"
      ],
      "metadata": {
        "id": "2PnnPWWJmLPX"
      },
      "execution_count": 377,
      "outputs": []
    },
    {
      "cell_type": "markdown",
      "source": [
        "# model selection"
      ],
      "metadata": {
        "id": "hMsAmnmDOtjF"
      }
    },
    {
      "cell_type": "markdown",
      "source": [
        "baseline model\n",
        "RidgeCV"
      ],
      "metadata": {
        "id": "sbzv9vVOO0cW"
      }
    },
    {
      "cell_type": "code",
      "source": [
        "clf_ridgeCCV = RidgeClassifierCV(alphas=[1e-3, 1e-2, 1e-1, 1],cv=50).fit(x_train_, y_train_)\n",
        "\n",
        "print(f'ridgeCCV train score {clf_ridgeCCV.score(x_train_, y_train_)}')\n",
        "print(f'ridgeCCV val score {clf_ridgeCCV.score(x_test_, y_test_)}')\n",
        "print('\\n')\n",
        "\n",
        "y_pred_rccv_test = clf_ridgeCCV.predict(x_test_)\n",
        "ras_ridgeCCV = roc_auc_score(y_test_,y_pred_rccv_test )\n",
        "print(f\"ridgeCCV roc_auc_score for val data {ras_ridgeCCV}\")"
      ],
      "metadata": {
        "id": "Gw4QrEIAqPnb",
        "colab": {
          "base_uri": "https://localhost:8080/"
        },
        "outputId": "100970c7-fb9b-4e5a-ff1f-4bc9f4167e3f"
      },
      "execution_count": 380,
      "outputs": [
        {
          "output_type": "stream",
          "name": "stdout",
          "text": [
            "ridgeCCV train score 0.7890892178052584\n",
            "ridgeCCV val score 0.7909827095644562\n",
            "\n",
            "\n",
            "ridgeCCV roc_auc_score for val data 0.790982709564456\n"
          ]
        }
      ]
    },
    {
      "cell_type": "markdown",
      "source": [
        "RandomForestClassifier\n"
      ],
      "metadata": {
        "id": "tZCEPvshXIiX"
      }
    },
    {
      "cell_type": "code",
      "source": [
        "clf_randfor = RandomForestClassifier(n_estimators=2).fit(x_train_,y_train_)\n",
        "print(f\"clf_randfor train score {clf_randfor.score(x_train_,y_train_)}\")\n",
        "print(f\"clf_randfor val score {clf_randfor.score(x_test_,y_test_)}\")\n",
        "print(\"\\n\")\n",
        "y_pred_randf_test = clf_randfor.predict(x_test_)\n",
        "ras_clf_randfor = roc_auc_score(y_test_,y_pred_randf_test )\n",
        "print(f\"clf_randfor roc_auc_score for val data {ras_clf_randfor}\")"
      ],
      "metadata": {
        "id": "v8UJTGsyshCZ",
        "colab": {
          "base_uri": "https://localhost:8080/"
        },
        "outputId": "7b88705a-cbcd-4faf-f315-47e419ff91b0"
      },
      "execution_count": 264,
      "outputs": [
        {
          "output_type": "stream",
          "name": "stdout",
          "text": [
            "clf_randfor train score 0.844448527160267\n",
            "clf_randfor val score 0.585843742346314\n",
            "\n",
            "\n",
            "clf_randfor roc_auc_score for val data 0.5857938701285739\n"
          ]
        }
      ]
    },
    {
      "cell_type": "markdown",
      "source": [
        "SVM"
      ],
      "metadata": {
        "id": "UN1VrktdXU4N"
      }
    },
    {
      "cell_type": "code",
      "source": [
        "from sklearn.svm import SVC\n",
        "clf_svc = SVC(probability=True,degree=10,C=0.85)\n",
        "clf_svc.fit(x_train_,y_train_)\n",
        "\n",
        "print(f\"clf_svc train score {clf_svc.score(x_train_,y_train_)}\")\n",
        "print(f\"clf_svc val score {clf_svc.score(x_test_,y_test_)}\")\n",
        "print(\"\\n\")\n",
        "y_pred_svc_test = clf_svc.predict(x_test_)\n",
        "ras_svc = roc_auc_score(y_test_,y_pred_svc_test )\n",
        "print(f\"ras_svc roc_auc_score for val data {ras_svc}\")"
      ],
      "metadata": {
        "id": "hEResuLYtJaO",
        "colab": {
          "base_uri": "https://localhost:8080/"
        },
        "outputId": "3d4add81-6df5-4ebc-97a4-1809cf14ac8e"
      },
      "execution_count": 381,
      "outputs": [
        {
          "output_type": "stream",
          "name": "stdout",
          "text": [
            "clf_svc train score 0.8053404831605154\n",
            "clf_svc val score 0.804005252790545\n",
            "\n",
            "\n",
            "ras_svc roc_auc_score for val data 0.804005252790545\n"
          ]
        }
      ]
    },
    {
      "cell_type": "code",
      "source": [
        "clf_log = LogisticRegressionCV(class_weight='balanced',random_state=42)\n",
        "clf_log.fit(x_train_,y_train_)\n",
        "\n",
        "print(f\"clf_log train score {clf_log.score(x_train_,y_train_)}\")\n",
        "print(f\"clf_log val score {clf_log.score(x_test_,y_test_)}\")\n",
        "print(\"\\n\")\n",
        "y_pred_log_test = clf_log.predict(x_test_)\n",
        "ras_log = roc_auc_score(y_test_,y_pred_log_test )\n",
        "print(f\"ras_log roc_auc_score for val data {ras_log}\")"
      ],
      "metadata": {
        "colab": {
          "base_uri": "https://localhost:8080/"
        },
        "id": "RI9IDEWHikvp",
        "outputId": "075e7765-f2ed-484d-9b71-16a09ff7dc6a"
      },
      "execution_count": 330,
      "outputs": [
        {
          "output_type": "stream",
          "name": "stdout",
          "text": [
            "clf_log train score 0.6626860187396656\n",
            "clf_log val score 0.6769532206710752\n",
            "\n",
            "\n",
            "ras_log roc_auc_score for val data 0.676955180791809\n"
          ]
        }
      ]
    },
    {
      "cell_type": "markdown",
      "source": [
        "Hyperparameter tuning for LogisticRegression"
      ],
      "metadata": {
        "id": "GgNc23Fnnzfg"
      }
    },
    {
      "cell_type": "code",
      "source": [
        "'''\n",
        "code commented out beacuse it takes longer time to run.\n",
        "'''\n",
        "# param_dist = {\n",
        "#     'Cs': [1, 10, 100],\n",
        "#     'cv': [3, 5, 10],\n",
        "#     'penalty': ['l1', 'l2', 'elasticnet'],\n",
        "#     'solver': ['newton-cg', 'lbfgs', 'liblinear'],\n",
        "# }\n",
        "\n",
        "# # Create a LogisticRegressionCV instance\n",
        "\n",
        "# clf = LogisticRegressionCV(cv=5, random_state=42,\n",
        "#                            class_weight='balanced',\n",
        "#                            solver='liblinear',\n",
        "#                            penalty='l2',\n",
        "#                            cv=5,\n",
        "#                            Cs=100)\n",
        "\n",
        "# # Create RandomizedSearchCV instance\n",
        "# random_search = RandomizedSearchCV(\n",
        "#     clf,\n",
        "#     param_distributions=param_dist,\n",
        "#     n_iter=15,  # Number of iterations\n",
        "#     scoring='accuracy',  # Use an appropriate scoring metric\n",
        "#     cv=5,  # Number of cross-validation folds\n",
        "#     random_state=42\n",
        "# )\n",
        "\n",
        "# # Perform the randomized grid search\n",
        "# random_search.fit(x_train_,y_train_ )\n",
        "\n",
        "# # Print best parameters and score\n",
        "# print(\"Best Parameters:\", random_search.best_params_)\n",
        "# print(\"Best Score:\", random_search.best_score_)"
      ],
      "metadata": {
        "id": "-_2xhZlpmcSh"
      },
      "execution_count": null,
      "outputs": []
    },
    {
      "cell_type": "code",
      "source": [
        "clf = LogisticRegressionCV(cv=5, random_state=42,\n",
        "                           class_weight='balanced',\n",
        "                           solver='liblinear',\n",
        "                           penalty='l2',\n",
        "                           Cs=10)\n",
        "\n",
        "clf.fit(x_train_,y_train_)\n",
        "\n",
        "y_test_pred_best = clf.predict(x_test_)\n",
        "ras = roc_auc_score(y_test_,y_test_pred_best )\n",
        "ras"
      ],
      "metadata": {
        "colab": {
          "base_uri": "https://localhost:8080/"
        },
        "id": "4At58xz6310H",
        "outputId": "a7c312c8-e4b9-4931-af6e-a9e1287ab744"
      },
      "execution_count": 379,
      "outputs": [
        {
          "output_type": "execute_result",
          "data": {
            "text/plain": [
              "0.794484569927774"
            ]
          },
          "metadata": {},
          "execution_count": 379
        }
      ]
    },
    {
      "cell_type": "markdown",
      "source": [
        "Hyperparameter tuning for MLP"
      ],
      "metadata": {
        "id": "0ZiFHOEiiPZ3"
      }
    },
    {
      "cell_type": "code",
      "source": [
        "mlp = MLPClassifier(hidden_layer_sizes=(31, 15, 10,5),\n",
        "                    alpha=0.081424224295953776,\n",
        "                    early_stopping=True,\n",
        "                    learning_rate='adaptive',\n",
        "                    max_iter=100,\n",
        "                    random_state=42,\n",
        "                    warm_start=True,\n",
        "                    )\n",
        "mlp.fit(x_train_,y_train_)\n",
        "\n",
        "\n",
        "print(f\"mlp train score {mlp.score(x_train_,y_train_)}\")\n",
        "print(f\"mlp val score {mlp.score(x_test_,y_test_)}\")\n",
        "print(\"\\n\")\n",
        "y_pred_mlp_test = mlp.predict(x_test_)\n",
        "ras_mlp = roc_auc_score(y_test_,y_pred_mlp_test )\n",
        "print(f\"ras_mlp roc_auc_score for val data {ras_mlp}\")"
      ],
      "metadata": {
        "colab": {
          "base_uri": "https://localhost:8080/"
        },
        "id": "F8McYVDxkHMI",
        "outputId": "b61b677b-39cf-4a00-c734-e41ad6ae398c"
      },
      "execution_count": 378,
      "outputs": [
        {
          "output_type": "stream",
          "name": "stdout",
          "text": [
            "mlp train score 0.8100188777324834\n",
            "mlp val score 0.8046618516086671\n",
            "\n",
            "\n",
            "ras_mlp roc_auc_score for val data 0.8046618516086671\n"
          ]
        }
      ]
    },
    {
      "cell_type": "code",
      "source": [
        "# from sklearn.model_selection import RandomizedSearchCV\n",
        "# from sklearn.neural_network import MLPClassifier\n",
        "# from scipy.stats import randint, uniform\n",
        "\n",
        "# base_estimator = MLPClassifier()\n",
        "\n",
        "# # Define the hyperparameter grid\n",
        "# param_dist = {\n",
        "#     'hidden_layer_sizes': [(31, 15), (31,15,10)],\n",
        "#     'max_iter': randint(100, 500),\n",
        "#     'learning_rate': ['adaptive'],\n",
        "#     'alpha': uniform(0.001, 0.1),\n",
        "#     'early_stopping': [True],\n",
        "#     'warm_start': [True],\n",
        "#     'random_state': [42]\n",
        "# }\n",
        "\n",
        "# # Create the RandomizedSearchCV object\n",
        "# random_search2 = RandomizedSearchCV(\n",
        "#     estimator=base_estimator,\n",
        "#     param_distributions=param_dist,\n",
        "#     n_iter=10,  # Number of random combinations to try\n",
        "#     scoring='accuracy',\n",
        "#     cv=5,  # Number of cross-validation folds\n",
        "#     verbose=1,\n",
        "#     n_jobs=-1,  # Use all available CPU cores\n",
        "#     random_state=42\n",
        "# )\n",
        "\n",
        "# # Fit the RandomizedSearchCV object on your data\n",
        "# # X_train, y_train = ...\n",
        "# random_search2.fit(x_train_, y_train_)\n",
        "\n",
        "# # Print the best hyperparameters and the corresponding score\n",
        "# print(\"Best Hyperparameters:\", random_search2.best_params_)\n",
        "# print(\"Best Accuracy Score:\", random_search2.best_score_)"
      ],
      "metadata": {
        "colab": {
          "base_uri": "https://localhost:8080/"
        },
        "id": "qY8le3gQRWqA",
        "outputId": "eab53b5f-76a4-46d3-ecb1-b3385d0947e9"
      },
      "execution_count": 145,
      "outputs": [
        {
          "output_type": "stream",
          "name": "stdout",
          "text": [
            "Fitting 5 folds for each of 10 candidates, totalling 50 fits\n",
            "Best Hyperparameters: {'alpha': 0.031424224295953776, 'early_stopping': True, 'hidden_layer_sizes': (31, 15, 10, 5), 'learning_rate': 'adaptive', 'max_iter': 352, 'random_state': 42, 'warm_start': True}\n",
            "Best Accuracy Score: 0.7329046898638427\n"
          ]
        }
      ]
    },
    {
      "cell_type": "code",
      "source": [
        "# best_estimator = random_search.best_estimator_"
      ],
      "metadata": {
        "id": "n2lnEO3oALFG"
      },
      "execution_count": 204,
      "outputs": []
    },
    {
      "cell_type": "code",
      "source": [
        "best_estimator = clf_svc\n",
        "y_test_pred = best_estimator.predict(x_test_)\n",
        "conf_mat = confusion_matrix(y_test_,y_test_pred)\n",
        "con_dis = ConfusionMatrixDisplay(conf_mat)\n",
        "con_dis.plot()"
      ],
      "metadata": {
        "colab": {
          "base_uri": "https://localhost:8080/",
          "height": 466
        },
        "id": "PLghUB1JNuf9",
        "outputId": "3e52421c-c096-429c-f7df-e3cd26870e83"
      },
      "execution_count": 382,
      "outputs": [
        {
          "output_type": "execute_result",
          "data": {
            "text/plain": [
              "<sklearn.metrics._plot.confusion_matrix.ConfusionMatrixDisplay at 0x7938a15efcd0>"
            ]
          },
          "metadata": {},
          "execution_count": 382
        },
        {
          "output_type": "display_data",
          "data": {
            "text/plain": [
              "<Figure size 640x480 with 2 Axes>"
            ],
            "image/png": "[encoded data removed]"
          },
          "metadata": {}
        }
      ]
    },
    {
      "cell_type": "code",
      "source": [
        "best_estimator = mlp\n",
        "y_test_pred = best_estimator.predict(x_test_)\n",
        "conf_mat = confusion_matrix(y_test_,y_test_pred)\n",
        "con_dis = ConfusionMatrixDisplay(conf_mat)\n",
        "con_dis.plot()"
      ],
      "metadata": {
        "colab": {
          "base_uri": "https://localhost:8080/",
          "height": 466
        },
        "id": "okZlXPYg4dUP",
        "outputId": "911b67ab-14af-4c56-a79e-ce8212b6b522"
      },
      "execution_count": 383,
      "outputs": [
        {
          "output_type": "execute_result",
          "data": {
            "text/plain": [
              "<sklearn.metrics._plot.confusion_matrix.ConfusionMatrixDisplay at 0x7938a16489a0>"
            ]
          },
          "metadata": {},
          "execution_count": 383
        },
        {
          "output_type": "display_data",
          "data": {
            "text/plain": [
              "<Figure size 640x480 with 2 Axes>"
            ],
            "image/png": "[encoded data removed]"
          },
          "metadata": {}
        }
      ]
    },
    {
      "cell_type": "code",
      "source": [
        "\n",
        "y_test_pred_best = best_estimator.predict(x_test_)\n",
        "ras = roc_auc_score(y_test_,y_test_pred_best )\n",
        "ras"
      ],
      "metadata": {
        "colab": {
          "base_uri": "https://localhost:8080/"
        },
        "id": "VgFPOjeTQ3pm",
        "outputId": "4b15b1f0-e0a8-4cfa-da75-4b8dedde7396"
      },
      "execution_count": 281,
      "outputs": [
        {
          "output_type": "execute_result",
          "data": {
            "text/plain": [
              "0.6887206008462178"
            ]
          },
          "metadata": {},
          "execution_count": 281
        }
      ]
    },
    {
      "cell_type": "markdown",
      "source": [
        "# Making Prediction using MLP"
      ],
      "metadata": {
        "id": "EzzpAVy_XoZZ"
      }
    },
    {
      "cell_type": "code",
      "source": [
        "df_test  = pd.read_csv(\"/content/DS Test/Test/X_test.csv\")\n",
        "\n",
        "df_test[['C6','C8']] =  df_test[['C6','C8']].replace({True: 1, False: 0})\n",
        "# droped_col_ls = ['N25','N26','N27','N28','N29','N30','N31','N32','N33']\n",
        "df_unique_id = df_test['Unique_ID']\n",
        "# df_x_test = df_x_test.drop([droped_col_ls],axis=1)\n",
        "\n",
        "selected_columns = feature_imp.index\n",
        "df_test_x = df_test[selected_columns]\n",
        "\n",
        "np_test_std_x = pipe.fit(df_test_x)\n",
        "np_test_std_x = pipe.transform(df_test_x)\n",
        "\n"
      ],
      "metadata": {
        "id": "3K2EfMTUXrLl"
      },
      "execution_count": 385,
      "outputs": []
    },
    {
      "cell_type": "code",
      "source": [
        "y_pred_test = best_estimator.predict_proba(np_test_std_x)[:,1]\n"
      ],
      "metadata": {
        "id": "KaJg7M5esiQK"
      },
      "execution_count": 386,
      "outputs": []
    },
    {
      "cell_type": "code",
      "source": [
        "out_df = pd.DataFrame({'Unique_ID':df_unique_id,'Class_1_Probability':y_pred_test})"
      ],
      "metadata": {
        "id": "bRmxdb3Avw0n"
      },
      "execution_count": 387,
      "outputs": []
    },
    {
      "cell_type": "code",
      "source": [
        "csv_filename = 'final_prediction.csv'\n",
        "out_df.to_csv(csv_filename, index=False)"
      ],
      "metadata": {
        "id": "DSWT1TRRwpIK"
      },
      "execution_count": 388,
      "outputs": []
    }
  ]
}